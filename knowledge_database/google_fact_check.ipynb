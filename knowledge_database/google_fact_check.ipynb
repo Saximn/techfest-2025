{
 "cells": [
  {
   "cell_type": "code",
   "execution_count": 1,
   "metadata": {},
   "outputs": [],
   "source": [
    "import os\n",
    "from googleapiclient.discovery import build\n",
    "from dotenv import load_dotenv\n",
    "\n",
    "load_dotenv()\n",
    "\n",
    "fact_check_api = os.getenv('FACT_CHECK_API_KEY')"
   ]
  },
  {
   "cell_type": "code",
   "execution_count": 3,
   "metadata": {},
   "outputs": [],
   "source": [
    "# 2) Initialize the client\n",
    "service = build(\"factchecktools\", \"v1alpha1\", developerKey=fact_check_api)"
   ]
  },
  {
   "cell_type": "code",
   "execution_count": 16,
   "metadata": {},
   "outputs": [],
   "source": [
    "def check_fact_with_google_fact_check(query, page_size=5):\n",
    "    \"\"\"\n",
    "    Searches for fact-check articles matching `query`.\n",
    "    page_size = how many results to fetch (max 50).\n",
    "    Returns a list of matching claims with summary info.\n",
    "    \"\"\"\n",
    "    try:\n",
    "        request = service.claims().search(\n",
    "            query=query, \n",
    "            pageSize=page_size,\n",
    "            languageCode=\"en-US\"\n",
    "        )\n",
    "        response = request.execute()\n",
    "        \n",
    "        # The response includes 'claims' if matches are found\n",
    "        claims_list = response.get(\"claims\", [])\n",
    "        return claims_list\n",
    "    \n",
    "    except Exception as e:\n",
    "        print(\"Error calling Google Fact Check Tools API:\", e)\n",
    "        return []\n"
   ]
  },
  {
   "cell_type": "code",
   "execution_count": 15,
   "metadata": {},
   "outputs": [
    {
     "name": "stdout",
     "output_type": "stream",
     "text": [
      "Error calling Google Fact Check Tools API: [WinError 10054] An existing connection was forcibly closed by the remote host\n"
     ]
    }
   ],
   "source": [
    "search_query = \"Ukranian war\"\n",
    "results = check_fact_with_google_fact_check(search_query)"
   ]
  },
  {
   "cell_type": "code",
   "execution_count": 13,
   "metadata": {},
   "outputs": [
    {
     "data": {
      "text/plain": [
       "[{'text': '\"Zelenskyy said he would quickly make peace with Russia, but instead, he started a war.\"',\n",
       "  'claimant': 'Andrei Kelin',\n",
       "  'claimDate': '2025-02-25T20:29:54Z',\n",
       "  'claimReview': [{'publisher': {'name': 'VOA', 'site': 'voanews.com'},\n",
       "    'url': 'https://www.voanews.com/a/russia-uk-ambassador-falsely-claims-zelenskyy-started-russia-ukraine-war/7987874.html',\n",
       "    'title': 'Russia’s UK ambassador falsely claims Zelenskyy started Russia-Ukraine war',\n",
       "    'reviewDate': '2025-02-25T20:29:54Z',\n",
       "    'textualRating': 'False',\n",
       "    'languageCode': 'en'}]},\n",
       " {'text': 'President Trump: I have reached an agreement with Putin to end the war in Ukraine.',\n",
       "  'claimant': 'x.com',\n",
       "  'claimDate': '2025-02-16T08:12:52Z',\n",
       "  'claimReview': [{'publisher': {'site': 'misbar.com'},\n",
       "    'url': 'https://www.misbar.com/en/factcheck/2025/02/16/trump-and-putin-have-not-reached-agreement-end-russia-ukraine-war',\n",
       "    'title': 'Trump and Putin Have Not Reached an Agreement to End Russia-Ukraine War',\n",
       "    'reviewDate': '2025-02-16T08:12:52Z',\n",
       "    'textualRating': 'misleading',\n",
       "    'languageCode': 'en'}]},\n",
       " {'text': 'Trump says Russia has lost 1.5 million troops In Ukraine war',\n",
       "  'claimant': 'Donald Trump',\n",
       "  'claimDate': '2025-02-14T17:57:33Z',\n",
       "  'claimReview': [{'publisher': {'name': 'Newsweek', 'site': 'newsweek.com'},\n",
       "    'url': 'https://www.newsweek.com/fact-check-trump-russia-ukraine-war-losses-troops-2030104',\n",
       "    'title': 'Fact Check: Trump Says Russia Has Lost 1.5 Million Troops In Ukraine War',\n",
       "    'reviewDate': '2025-02-14T17:57:33Z',\n",
       "    'textualRating': 'False',\n",
       "    'languageCode': 'en'}]},\n",
       " {'text': 'A video shows the president of France, Emmanuel Macron, calling Vladimir Putin a “butcher” and commenting on his “war crimes” during a press conference with US president Donald Trump.',\n",
       "  'claimant': 'facebook user',\n",
       "  'claimDate': '2025-02-25T00:00:00Z',\n",
       "  'claimReview': [{'publisher': {'name': 'Full Fact', 'site': 'fullfact.org'},\n",
       "    'url': 'https://fullfact.org/news/president-macron-putin-butcher-trump-false/',\n",
       "    'title': \"Macron didn't call Putin a 'butcher' in news conference with Trump ...\",\n",
       "    'reviewDate': '2025-03-06T00:00:00Z',\n",
       "    'textualRating': 'This isn’t quite right. Mr Macron referred to killings in the Ukrainian town of Bucha and mentioned war crimes, but did not describe President Putin as a “butcher”.',\n",
       "    'languageCode': 'en'}]},\n",
       " {'text': 'Europe\\'s aid to Ukraine \"was in the form of a loan. They get their money back and we didn\\'t.\"',\n",
       "  'claimant': 'Donald Trump',\n",
       "  'claimDate': '2025-02-28T00:00:00Z',\n",
       "  'claimReview': [{'publisher': {'name': 'FactCheck.org',\n",
       "     'site': 'factcheck.org'},\n",
       "    'url': 'https://www.factcheck.org/2025/03/trump-exaggerates-on-u-s-and-european-aid-to-ukraine-loans/',\n",
       "    'title': 'Trump Exaggerates on U.S. and European Aid to Ukraine, Loans',\n",
       "    'textualRating': 'Exaggerates',\n",
       "    'languageCode': 'en'}]}]"
      ]
     },
     "execution_count": 13,
     "metadata": {},
     "output_type": "execute_result"
    }
   ],
   "source": [
    "results"
   ]
  },
  {
   "cell_type": "code",
   "execution_count": null,
   "metadata": {},
   "outputs": [],
   "source": [
    "for info in results:\n",
    "    "
   ]
  }
 ],
 "metadata": {
  "kernelspec": {
   "display_name": "env",
   "language": "python",
   "name": "python3"
  },
  "language_info": {
   "codemirror_mode": {
    "name": "ipython",
    "version": 3
   },
   "file_extension": ".py",
   "mimetype": "text/x-python",
   "name": "python",
   "nbconvert_exporter": "python",
   "pygments_lexer": "ipython3",
   "version": "3.13.1"
  }
 },
 "nbformat": 4,
 "nbformat_minor": 2
}
